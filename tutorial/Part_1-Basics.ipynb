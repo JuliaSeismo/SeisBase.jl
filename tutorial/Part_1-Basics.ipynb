{
 "cells": [
  {
   "cell_type": "markdown",
   "metadata": {},
   "source": [
    "# 0. **Start Here**\n",
    "\n",
    "## **Jupyter Notebooks**\n",
    "Jupyter Notebooks are interactive documents that allow users to run code \\\n",
    "in a web browser. Code is organized into small cells, so that users can \\\n",
    "easily see and interpret the output.\n",
    "\n",
    "### Basic Operation\n",
    "* **Run cell**: Shift + Enter\n",
    "* **Change cell**: Left click in cell, make changes, press Enter\n",
    "* **Restart notebook**: In the Jupyter browser window:\n",
    "    + Left click the Kernel menu.\n",
    "    + Left click the desired option.\n",
    "        - Most users want Restart Kernel and Clear All Outputs. \n",
    "* **Save notebook**: Control + S\n",
    "* **Shut down**: In the Jupyter browser window:\n",
    "    + left click the File menu at upper-left.\n",
    "    + left click Shut Down in the dropdown menu. \n",
    "    + left click Shut Down in the pop-up menu.\n",
    "\n",
    "## **Choose a Julia kernel**\n",
    "The upper-right corner of the tutorial window should show a Julia version \\\n",
    "string, like \"Julia 1.5.4\". \\\n",
    "\\\n",
    "If it says \"No Kernel\", left click that message, drag the pop-up menu \\\n",
    "selector to the desired Julia language version, then left click \"Select\".\n",
    "\n",
    "## **Run Setup Commands**\n",
    "If you haven't run this tutorial before as the current user, then please run \\\n",
    "this set of commands: (press Shift + Enter)"
   ]
  },
  {
   "cell_type": "code",
   "execution_count": null,
   "metadata": {},
   "outputs": [],
   "source": [
    "using Pkg\n",
    "Pkg.resolve()\n",
    "if Sys.iswindows() == false\n",
    "    if get(Pkg.installed(), \"SeisIO\", nothing) == nothing\n",
    "        println(\"SeisIO not installed; calling Pkg.add.\")\n",
    "        # Pkg.add(\"SeisIO\")\n",
    "    else\n",
    "        println(\"SeisIO installed.\")\n",
    "    end\n",
    "else\n",
    "    println(\"Windows detected; assuming SeisIO is installed.\")\n",
    "end"
   ]
  },
  {
   "cell_type": "markdown",
   "metadata": {},
   "source": [
    "# 1. **Getting Started**\n",
    "Start SeisIO by loading the package into memory:"
   ]
  },
  {
   "cell_type": "code",
   "execution_count": null,
   "metadata": {},
   "outputs": [],
   "source": [
    "using SeisIO"
   ]
  },
  {
   "cell_type": "markdown",
   "metadata": {},
   "source": [
    "You'll need to do this at the start of every Julia session. \n",
    "\\\n",
    "\\\n",
    "SeisIO uses an array-like structure called `SeisChannel` for single-channel data."
   ]
  },
  {
   "cell_type": "code",
   "execution_count": null,
   "metadata": {},
   "outputs": [],
   "source": [
    "C = SeisChannel()"
   ]
  },
  {
   "cell_type": "markdown",
   "metadata": {},
   "source": [
    "\\\n",
    "\\\n",
    "Access fields by name to view their contents directly:"
   ]
  },
  {
   "cell_type": "code",
   "execution_count": null,
   "metadata": {},
   "outputs": [],
   "source": [
    "C.x"
   ]
  },
  {
   "cell_type": "markdown",
   "metadata": {},
   "source": [
    "\\\n",
    "You can also overwrite them by name:"
   ]
  },
  {
   "cell_type": "code",
   "execution_count": null,
   "metadata": {},
   "outputs": [],
   "source": [
    "C.x = rand(Float32, 1024)"
   ]
  },
  {
   "cell_type": "code",
   "execution_count": null,
   "metadata": {},
   "outputs": [],
   "source": [
    "C.loc = GeoLoc(lat = -90.0, lon = 0.0, el = 9300.0)"
   ]
  },
  {
   "cell_type": "code",
   "execution_count": null,
   "metadata": {},
   "outputs": [],
   "source": [
    "C"
   ]
  },
  {
   "cell_type": "markdown",
   "metadata": {},
   "source": [
    "\\\n",
    "The `SeisData` structure is the basic container that SeisIO uses. \\\n",
    "These objects behave like arrays of `SeisChannel` objects: they store multiple \\\n",
    "channels of data, but they're not matrices (more like arrays of arrays).\\\n",
    "You can initialize `SeisData` structures as empty containers for 0 or more channels:"
   ]
  },
  {
   "cell_type": "code",
   "execution_count": null,
   "metadata": {},
   "outputs": [],
   "source": [
    "S = SeisData(6)"
   ]
  },
  {
   "cell_type": "markdown",
   "metadata": {},
   "source": [
    "\\\n",
    "Let's create a random example for tutorial purposes."
   ]
  },
  {
   "cell_type": "code",
   "execution_count": null,
   "metadata": {},
   "outputs": [],
   "source": [
    "using SeisIO.RandSeis\n",
    "S = randSeisData(6)"
   ]
  },
  {
   "cell_type": "markdown",
   "metadata": {},
   "source": [
    "\\\n",
    "SeisData fields are accessed by name and index."
   ]
  },
  {
   "cell_type": "code",
   "execution_count": null,
   "metadata": {},
   "outputs": [],
   "source": [
    "x1 = S.x[1]        # get first index of data field :x"
   ]
  },
  {
   "cell_type": "markdown",
   "metadata": {},
   "source": [
    "\\\n",
    "If you access a SeisData structure by a single integer index, the output is a SeisChannel:"
   ]
  },
  {
   "cell_type": "code",
   "execution_count": null,
   "metadata": {},
   "outputs": [],
   "source": [
    "C_new = S[1]"
   ]
  },
  {
   "cell_type": "markdown",
   "metadata": {},
   "source": [
    "\\\n",
    "If you access a SeisData structure by a range of indices, the output is a\\\n",
    "SeisData structure whose channel indices match your request:"
   ]
  },
  {
   "cell_type": "code",
   "execution_count": null,
   "metadata": {},
   "outputs": [],
   "source": [
    "S2 = S[1:3]"
   ]
  },
  {
   "cell_type": "markdown",
   "metadata": {},
   "source": [
    "\\\n",
    "These commands access identical information, but the first is faster:"
   ]
  },
  {
   "cell_type": "code",
   "execution_count": null,
   "metadata": {},
   "outputs": [],
   "source": [
    "x1 = S.x[1]        # get first index of data field :x\n",
    "x2 = S[1].x        # extract S[1] to a SeisChannel, then get its data field :x"
   ]
  },
  {
   "cell_type": "code",
   "execution_count": null,
   "metadata": {},
   "outputs": [],
   "source": [
    "x1 == x2           # true unless there are NaNs"
   ]
  },
  {
   "cell_type": "markdown",
   "metadata": {},
   "source": [
    "## Working with Structures (Optional Section)\n",
    "A collection of SeisChannel objects becomes a SeisData structure:"
   ]
  },
  {
   "cell_type": "code",
   "execution_count": null,
   "metadata": {},
   "outputs": [],
   "source": [
    "S = SeisData(randSeisChannel(), randSeisChannel())"
   ]
  },
  {
   "cell_type": "markdown",
   "metadata": {},
   "source": [
    "\\\n",
    "You can push channels onto existing SeisData structures:"
   ]
  },
  {
   "cell_type": "code",
   "execution_count": null,
   "metadata": {},
   "outputs": [],
   "source": [
    "push!(S, C_new)"
   ]
  },
  {
   "cell_type": "markdown",
   "metadata": {},
   "source": [
    "\\\n",
    "SeisData structures can be concatenated:"
   ]
  },
  {
   "cell_type": "code",
   "execution_count": null,
   "metadata": {},
   "outputs": [],
   "source": [
    "append!(S, randSeisData(4))\n",
    "S"
   ]
  },
  {
   "cell_type": "markdown",
   "metadata": {},
   "source": [
    "\\\n",
    "The addition operator also does this:"
   ]
  },
  {
   "cell_type": "code",
   "execution_count": null,
   "metadata": {},
   "outputs": [],
   "source": [
    "S += randSeisChannel()"
   ]
  },
  {
   "cell_type": "markdown",
   "metadata": {},
   "source": [
    "\\\n",
    "Thus, this command works: (note: please don't actually code like this)"
   ]
  },
  {
   "cell_type": "code",
   "execution_count": null,
   "metadata": {},
   "outputs": [],
   "source": [
    "S = SeisData(\n",
    "        randSeisData(5), \n",
    "        randSeisChannel(), \n",
    "        SeisChannel(\n",
    "            id=\"UW.SEP..EHZ\", \n",
    "            name=\"Darth Exploded\", \n",
    "            loc=GeoLoc(lat=46.1967, lon=-122.1875, el=1440.0), \n",
    "            t=[1 1569374150379000; 1024 0], \n",
    "            x=rand(1024)\n",
    "            )\n",
    "        )"
   ]
  },
  {
   "cell_type": "markdown",
   "metadata": {},
   "source": [
    "\\\n",
    "**Warning**: Combining structures calls `prune!` to remove empty channels,\\\n",
    "defined as channels with no data (empty `:x`); this is one of two operations\\\n",
    "needed to guarantee commutativity (i.e., for any `SeisData` structures S1, S2,\\\n",
    "`S1 + S2 == S2 + S1`). Thus, in the (heinous) creation syntax below, the command\\\n",
    "`SeisData(3)`, which should add three empty channels, does nothing; `prune!`\\\n",
    "deletes the new channels. (To actually append empty channels, use `append!`)"
   ]
  },
  {
   "cell_type": "code",
   "execution_count": null,
   "metadata": {},
   "outputs": [],
   "source": [
    "S1 = SeisData(\n",
    "        randSeisData(5), \n",
    "        randSeisChannel(), \n",
    "        SeisChannel(\n",
    "            id=\"UW.SEP..EHZ\", \n",
    "            name=\"Darth Exploded\", \n",
    "            loc=GeoLoc(lat=46.1967, lon=-122.1875, el=1440.0), \n",
    "            t=[1 1569374150379000; 1024 0], \n",
    "            x=rand(1024)\n",
    "            )\n",
    "        ) + SeisData(3)"
   ]
  },
  {
   "cell_type": "markdown",
   "metadata": {},
   "source": [
    "## Navigating Structures (Optional Section)\n",
    "There are two easy ways to find channels of interest in a data structure.\\\n",
    "The command `findid` returns the first channel number that matches the ID\\\n",
    "supplied:"
   ]
  },
  {
   "cell_type": "code",
   "execution_count": null,
   "metadata": {},
   "outputs": [],
   "source": [
    "i = findid(\"UW.SEP..EHZ\", S)"
   ]
  },
  {
   "cell_type": "markdown",
   "metadata": {},
   "source": [
    "\\\n",
    "If you want partial matches, use the function `findchan`:"
   ]
  },
  {
   "cell_type": "code",
   "execution_count": null,
   "metadata": {},
   "outputs": [],
   "source": [
    "findchan(\"EHZ\", S)"
   ]
  },
  {
   "cell_type": "markdown",
   "metadata": {},
   "source": [
    "## Variant Structures (Optional Section)\n",
    "`SeisData` is a subtype of `GphysData`. The Abstract Type `GphysData` \\\n",
    "includes variant data structures, all of which have the same basic fields\\\n",
    "(`:id`, `:x`, etc). Other data structures will be added to `GphysData`\\\n",
    "as modules develop, but they will always contain the same basic fields.\\\n",
    "For example, in the Quake submodule, the `EventTraceData` structure\\\n",
    "has additional fields for location parameters like azimuth (`:az`)\\\n",
    "and has a custom Type for a phase catalog (`:pha`).\\\n",
    "\\\n",
    "You can convert between `GphysData` subtypes with `convert`, but extraneous\\\n",
    "fields will be lost, and fields that are not contained in the source Type\\\n",
    "will be initialized to default values:"
   ]
  },
  {
   "cell_type": "code",
   "execution_count": null,
   "metadata": {},
   "outputs": [],
   "source": [
    "using SeisIO.Quake\n",
    "S_ev = randSeisData(6)\n",
    "Tr = convert(EventTraceData, S_ev)\n",
    "Tr"
   ]
  },
  {
   "cell_type": "markdown",
   "metadata": {},
   "source": [
    "Let's add some phases to see how conversion works:"
   ]
  },
  {
   "cell_type": "code",
   "execution_count": null,
   "metadata": {},
   "outputs": [],
   "source": [
    "Tr.pha[1][\"P\"] = SeisPha(amp = 1.0e6, d = 40075.0, tt = 1344.0, unc = 1.5)\n",
    "Tr.pha[2] = randPhaseCat()\n",
    "S_ev2 = convert(SeisData, Tr)\n",
    "S_ev == S_ev2                    # true unless S_ev.x contains NaNs"
   ]
  },
  {
   "cell_type": "markdown",
   "metadata": {},
   "source": [
    "...but since the phase catalog wasn't retained by the `SeisData` object `S_ev2`,"
   ]
  },
  {
   "cell_type": "code",
   "execution_count": null,
   "metadata": {},
   "outputs": [],
   "source": [
    "Tr2 = convert(EventTraceData, S_ev2)\n",
    "Tr == Tr2"
   ]
  }
 ],
 "metadata": {
  "kernelspec": {
   "display_name": "Julia 1.5.4",
   "language": "julia",
   "name": "julia-1.5"
  },
  "language_info": {
   "file_extension": ".jl",
   "mimetype": "application/julia",
   "name": "julia",
   "version": "1.5.4"
  }
 },
 "nbformat": 4,
 "nbformat_minor": 4
}
