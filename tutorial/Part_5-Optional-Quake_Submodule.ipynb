{
 "cells": [
  {
   "cell_type": "markdown",
   "metadata": {},
   "source": [
    "# 4. **SeisIO.Quake Submodule**\n",
    "The Quake submodule was created to work with earthquake data. It uses a new\\\n",
    "structure called `SeisEvent` that holds seismic source info, an event header,\\\n",
    "and trace data.\\\n",
    "\\\n",
    "This tutorial assumes basic familiarity with SeisIO. If you haven't done parts\\\n",
    "1–3 yet, do those first!"
   ]
  },
  {
   "cell_type": "markdown",
   "metadata": {},
   "source": [
    "## A. **Installation**\n",
    "If you haven't run this tutorial before as the current user,\\\n",
    "then please run this set of commands: (press Shift + Enter)"
   ]
  },
  {
   "cell_type": "code",
   "execution_count": null,
   "metadata": {},
   "outputs": [],
   "source": [
    "using Pkg\n",
    "Pkg.resolve()"
   ]
  },
  {
   "cell_type": "markdown",
   "metadata": {},
   "source": [
    "## B. **Getting Started**"
   ]
  },
  {
   "cell_type": "code",
   "execution_count": null,
   "metadata": {},
   "outputs": [],
   "source": [
    "using SeisIO, SeisIO.Quake\n",
    "include(\"safe_rm.jl\")"
   ]
  },
  {
   "cell_type": "markdown",
   "metadata": {},
   "source": [
    "\\\n",
    "There are four basic parametric Types in the Quake submodule:\\\n",
    "* SeisHdr\n",
    "* SeisSrc\n",
    "* EventTraceData\n",
    "* SeisEvent"
   ]
  },
  {
   "cell_type": "markdown",
   "metadata": {},
   "source": [
    "### **SeisHdr**\n",
    "Seismic header information, including location and magnitude data."
   ]
  },
  {
   "cell_type": "code",
   "execution_count": null,
   "metadata": {},
   "outputs": [],
   "source": [
    "?SeisHdr"
   ]
  },
  {
   "cell_type": "markdown",
   "metadata": {},
   "source": [
    "\\\n",
    "A new event header object can be initialiazed with keywords:"
   ]
  },
  {
   "cell_type": "code",
   "execution_count": null,
   "metadata": {},
   "outputs": [],
   "source": [
    "import Dates:DateTime\n",
    "H1 = SeisHdr(ot=DateTime(\"2012-01-03T03:49:45\"), int=(0x02, \"MMI\"))"
   ]
  },
  {
   "cell_type": "markdown",
   "metadata": {},
   "source": [
    "\\\n",
    "Because EQMag and EQLoc are custom Types, these can also be initialized with keywords,\\\n",
    "even when creating a SeisHdr structure:"
   ]
  },
  {
   "cell_type": "code",
   "execution_count": null,
   "metadata": {},
   "outputs": [],
   "source": [
    "H1 = SeisHdr(id=\"who_runs_this_network:9081278017348\", ot=DateTime(\"2012-01-03T03:49:45\"), int=(0x05, \"MMI\"), mag = EQMag(val=5.5f0, scale=\"mww\", nst=94, gap=35.5), src = \"tutorial\", typ = \"earthquake\")"
   ]
  },
  {
   "cell_type": "markdown",
   "metadata": {},
   "source": [
    "### **SeisSrc** \n",
    "Seismic source descriptions: focal mechanism, moment tensor, planes, axes, and source-time function."
   ]
  },
  {
   "cell_type": "code",
   "execution_count": null,
   "metadata": {},
   "outputs": [],
   "source": [
    "?SeisSrc"
   ]
  },
  {
   "cell_type": "markdown",
   "metadata": {},
   "source": [
    "### **EventTraceData**\n",
    "A similar container to the core `SeisData` structure, with additional fields for\\\n",
    "source-receiver geometry and arrival times. A single channel of EventTraceData\\\n",
    "is a custom type named `EventChannel`, analogous to a `SeisChannel` object."
   ]
  },
  {
   "cell_type": "code",
   "execution_count": null,
   "metadata": {},
   "outputs": [],
   "source": [
    "?EventTraceData"
   ]
  },
  {
   "cell_type": "markdown",
   "metadata": {},
   "source": [
    "### **SeisEvent**\n",
    "Finally, a `SeisEvent` structure has three substructures:\n",
    "* Header (type `SeisHdr`)\n",
    "* Seismic Source (type `SeisSrc`)\n",
    "* Trace Data (type `EventTraceData`)\n",
    "\n",
    "As before, one can initialize these at creation with keywords:"
   ]
  },
  {
   "cell_type": "code",
   "execution_count": null,
   "metadata": {},
   "outputs": [],
   "source": [
    "using SeisIO.RandSeis\n",
    "W = SeisEvent(hdr = SeisHdr(\n",
    "        id=\"who_runs_this_network:9081278017348\", \n",
    "        ot=DateTime(\"2012-01-03T03:49:45\"), \n",
    "        int=(0x05, \"MMI\"), \n",
    "        mag = EQMag(val=5.5f0, scale=\"mww\", nst=94, gap=35.5), \n",
    "        src = \"tutorial\", \n",
    "        typ = \"earthquake\"), \n",
    "    source = SeisSrc(m0 = 1.0e18,\n",
    "        mt = randn(6).*1.0e18, \n",
    "        dm = randn(6).*1.0e17), \n",
    "    data = EventTraceData(randSeisData(6))\n",
    ")\n",
    "\n",
    "# Note: calling EventTraceData on a SeisData structure converts it."
   ]
  },
  {
   "cell_type": "code",
   "execution_count": null,
   "metadata": {},
   "outputs": [],
   "source": [
    "W.data"
   ]
  },
  {
   "cell_type": "markdown",
   "metadata": {},
   "source": [
    "## C. **File I/O**\n",
    "\n",
    "### **Legacy File Formats**\n",
    "Legacy files can be read into memory in their entirety using the `read_quake`\\\n",
    "wrapper, which works like `read_data` for SeisEvent structures:"
   ]
  },
  {
   "cell_type": "code",
   "execution_count": null,
   "metadata": {},
   "outputs": [],
   "source": [
    "?read_quake"
   ]
  },
  {
   "cell_type": "code",
   "execution_count": null,
   "metadata": {},
   "outputs": [],
   "source": [
    "# one of the largest events at Mt. Hood before 2002 -- data from Jones & Malone, BSSA 2005\n",
    "# for the UW format, we omit the trailing letter to read both header and data files\n",
    "\n",
    "W = read_quake(\"uw\", \"DATA/99011116541\")"
   ]
  },
  {
   "cell_type": "markdown",
   "metadata": {},
   "source": [
    "\\\n",
    "**Caution**: not every legacy data format produces output whose fields contain\\\n",
    "usable data. In the above example, the UW file format doesn't fully store\\\n",
    "the principal axes or nodal planes; it records strike (*θ*) and dip (*δ*), but\\\n",
    "not rake (*λ*).\n",
    "\n",
    "### **QuakeML**\n",
    "Read QuakeML files into memory with either `read_qml(fname)` (to\\\n",
    "output arrays of header and source parameters) or\\\n",
    "`read_quake(\"qml\", fname)` (for one event):"
   ]
  },
  {
   "cell_type": "code",
   "execution_count": null,
   "metadata": {},
   "outputs": [],
   "source": [
    "qmf = \"DATA/fdsnws-event_2017-01-12T03-18-55Z.xml\"\n",
    "(H,R) = read_qml(qmf)\n",
    "W1 = SeisEvent(hdr = H[1], source = R[1])\n",
    "W2 = read_quake(\"qml\", qmf)"
   ]
  },
  {
   "cell_type": "code",
   "execution_count": null,
   "metadata": {},
   "outputs": [],
   "source": [
    "W1 == W2"
   ]
  },
  {
   "cell_type": "markdown",
   "metadata": {},
   "source": [
    "### **ASDF**\n",
    "\n",
    "#### Reading QuakeML from ASDF\n",
    "Just as waveform data can be read from ASDF volumes, so can QuakeML:"
   ]
  },
  {
   "cell_type": "code",
   "execution_count": null,
   "metadata": {},
   "outputs": [],
   "source": [
    "using SeisIO.SeisHDF\n",
    "hdf_evt = \"DATA/example.h5\"\n",
    "(H,R) = asdf_rqml(hdf_evt)"
   ]
  },
  {
   "cell_type": "markdown",
   "metadata": {},
   "source": [
    "\\\n",
    "The outputs of the above command are:\n",
    "* **H**, an Array{SeisHdr,1} with preferred event header info.\n",
    "* **R**, an Array{SeisSrc,1} with corresponding seismic source parameters.\n",
    "\n",
    "\n",
    "`H[i]` and `R[i]` describe the same event for any `i`; thus, it should\\\n",
    "always be true that `H.id[i] == R.eid[i]`.\\\n",
    "\\\n",
    "To create a SeisEvent structure for the first event's header and source info,\\\n",
    "run the following command:"
   ]
  },
  {
   "cell_type": "code",
   "execution_count": null,
   "metadata": {},
   "outputs": [],
   "source": [
    "W1 = SeisEvent(hdr = H[1], source = R[1])"
   ]
  },
  {
   "cell_type": "markdown",
   "metadata": {},
   "source": [
    "#### Writing QuakeML to ASDF\n",
    "The command `asdf_wqml(W)` writes the `:hdr` and `:source` fields of SeisEvent\\\n",
    "structure `W` to an ASDF volume. If the file exists, and already contains a\\\n",
    "\"QuakeML\" group, then data are appended to existing QuakeML. Otherwise, the\\\n",
    "\"QuakeML\" group is initialized with `W.hdr` and `W.source`."
   ]
  },
  {
   "cell_type": "code",
   "execution_count": null,
   "metadata": {},
   "outputs": [],
   "source": [
    "hdf_out = \"temp.h5\"\n",
    "safe_rm(hdf_out)\n",
    "\n",
    "# Create file and initialize \"QuakeML\" group\n",
    "asdf_wqml(hdf_out, W1)\n",
    "\n",
    "# Append to \"QuakeML\" group\n",
    "asdf_wqml(hdf_out, W1)\n",
    "\n",
    "# Read it back in\n",
    "(H,R) = asdf_rqml(hdf_out)"
   ]
  },
  {
   "cell_type": "markdown",
   "metadata": {},
   "source": [
    "\\\n",
    "Since the above command sequence wrote W1 to QuakeML twice..."
   ]
  },
  {
   "cell_type": "code",
   "execution_count": null,
   "metadata": {},
   "outputs": [],
   "source": [
    "H[1] == H[2]"
   ]
  },
  {
   "cell_type": "code",
   "execution_count": null,
   "metadata": {},
   "outputs": [],
   "source": [
    "R[1] == R[2]"
   ]
  },
  {
   "cell_type": "markdown",
   "metadata": {},
   "source": [
    "## D. **Data Requests**\n",
    "\n",
    "### **Event Info**\n",
    "Use `FDSNevq` to query FDSN Event servers for information:"
   ]
  },
  {
   "cell_type": "code",
   "execution_count": null,
   "metadata": {},
   "outputs": [],
   "source": [
    "?FDSNevq"
   ]
  },
  {
   "cell_type": "code",
   "execution_count": null,
   "metadata": {},
   "outputs": [],
   "source": [
    "# This should return 9 events\n",
    "(H,R) = FDSNevq(\"201103110547\", mag=[3.0, 9.9], src=\"IRIS\", v=0)"
   ]
  },
  {
   "cell_type": "code",
   "execution_count": null,
   "metadata": {},
   "outputs": [],
   "source": [
    "length(H)"
   ]
  },
  {
   "cell_type": "code",
   "execution_count": null,
   "metadata": {},
   "outputs": [],
   "source": [
    "# What's new at Mt. Rainier? Anything since the start of last month?\n",
    "rr = Float64[46.852886, -121.760374, 0.0, 0.1]\n",
    "mr = [-5.0, 9.9]\n",
    "\n",
    "using Dates\n",
    "ed = Dates.now()\n",
    "mm = Month(ed)\n",
    "sd = mm.value == 1 ? Dates.DateTime(Year(ed)-Year(1), Month(12)) : Dates.DateTime(Year(ed), Month(ed)-Month(1))\n",
    "ds = div((ed-sd).value, 1000)\n",
    "\n",
    "(H,R) = FDSNevq(string(sd), rad=rr, mag=mr, evw=[ds, 0.0], src=\"IRIS\")"
   ]
  },
  {
   "cell_type": "code",
   "execution_count": null,
   "metadata": {},
   "outputs": [],
   "source": [
    "length(H)"
   ]
  },
  {
   "cell_type": "markdown",
   "metadata": {},
   "source": [
    "\\\n",
    "Using `src=\"all\"` queries every FDSN Event server known to SeisIO, but beware:\\\n",
    "This makes no redundancy checks, so duplicate events are almost guaranteed."
   ]
  },
  {
   "cell_type": "markdown",
   "metadata": {},
   "source": [
    "### **TraceData**\n",
    "Use `FDSNevt` to query FDSN servers for a single event's information and trace data."
   ]
  },
  {
   "cell_type": "code",
   "execution_count": null,
   "metadata": {},
   "outputs": [],
   "source": [
    "?FDSNevt"
   ]
  },
  {
   "cell_type": "code",
   "execution_count": null,
   "metadata": {},
   "outputs": [],
   "source": [
    "ot = string(H[1].ot)"
   ]
  },
  {
   "cell_type": "code",
   "execution_count": null,
   "metadata": {},
   "outputs": [],
   "source": [
    "# This is likely to throw many warnings\n",
    "W = FDSNevt(ot, \"UW.RCM..*, UW.RCS..*, CC.PANH..*, CC.OBSR..*\", mag=mr, rad=rr)"
   ]
  },
  {
   "cell_type": "markdown",
   "metadata": {},
   "source": [
    "#### **Saving Requests**\n",
    "Request results can be saved to ASDF or written using `wseis` in low-level\\\n",
    "(SeisIO native) format.\n",
    "\n",
    "##### ASDF\n",
    "`write_hdf5` works with `SeisEvent` structures, just as with `SeisData`. For\\\n",
    "ASDF format, this also writes to, or appends, the \"QuakeML\" group within the\\\n",
    "volume."
   ]
  },
  {
   "cell_type": "code",
   "execution_count": null,
   "metadata": {},
   "outputs": [],
   "source": [
    "safe_rm(hdf_out)\n",
    "write_hdf5(hdf_out, W)"
   ]
  },
  {
   "cell_type": "markdown",
   "metadata": {},
   "source": [
    "\\\n",
    "**Warning**: due to the limitations of ASDF, picks and source-receiver\\\n",
    "geometry aren't written to file. Thus, `:hdr` and `:source` are preserved,\\\n",
    "but `:data` generally isn't.\\\n",
    "\\\n",
    "Thus, if we read in an event (here, using `read_asdf_evt`):"
   ]
  },
  {
   "cell_type": "code",
   "execution_count": null,
   "metadata": {},
   "outputs": [],
   "source": [
    "W1.hdr"
   ]
  },
  {
   "cell_type": "code",
   "execution_count": null,
   "metadata": {},
   "outputs": [],
   "source": [
    "W_arr = read_asdf_evt(hdf_out)\n",
    "W1 = W_arr[1]\n",
    "println(\":hdr preserved = \", W1.hdr==W.hdr, \"\\n:source preserved = \", W1.source==W.source, \"\\n:data preserved = \", W1.data==W.data)"
   ]
  },
  {
   "cell_type": "markdown",
   "metadata": {},
   "source": [
    "##### SeisIO low-level\n",
    "`wseis` preserves everything:"
   ]
  },
  {
   "cell_type": "code",
   "execution_count": null,
   "metadata": {},
   "outputs": [],
   "source": [
    "wseis(\"req.seis\", W)\n",
    "W1 = rseis(\"req.seis\")[1]\n",
    "W == W1"
   ]
  },
  {
   "cell_type": "markdown",
   "metadata": {},
   "source": [
    "## E. **Cleanup**\n",
    "Run these commands to delete save files when done:"
   ]
  },
  {
   "cell_type": "code",
   "execution_count": null,
   "metadata": {},
   "outputs": [],
   "source": [
    "safe_rm(\"req.seis\")\n",
    "safe_rm(hdf_out)"
   ]
  }
 ],
 "metadata": {
  "kernelspec": {
   "display_name": "Julia 1.2.0",
   "language": "julia",
   "name": "julia-1.2"
  },
  "language_info": {
   "file_extension": ".jl",
   "mimetype": "application/julia",
   "name": "julia",
   "version": "1.2.0"
  }
 },
 "nbformat": 4,
 "nbformat_minor": 4
}
