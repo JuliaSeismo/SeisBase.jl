{
 "cells": [
  {
   "cell_type": "markdown",
   "metadata": {},
   "source": [
    "# 3. **Data Requests**\n",
    "In this tutorial, we'll explain how to download data."
   ]
  },
  {
   "cell_type": "code",
   "execution_count": null,
   "metadata": {},
   "outputs": [],
   "source": [
    "using Dates, SeisIO\n",
    "include(\"safe_rm.jl\")"
   ]
  },
  {
   "cell_type": "markdown",
   "metadata": {},
   "source": [
    "## A. **Requesting data**\n",
    "`get_data` is the wrapper to online time-series data requests. <br>\n",
    "You can use it with FDSN dataselect and IRIS timeseries functions."
   ]
  },
  {
   "cell_type": "code",
   "execution_count": null,
   "metadata": {},
   "outputs": [],
   "source": [
    "?get_data"
   ]
  },
  {
   "cell_type": "markdown",
   "metadata": {},
   "source": [
    "\\\n",
    "**Let's try an example**.\\\n",
    "First, we'll get the current local time."
   ]
  },
  {
   "cell_type": "code",
   "execution_count": null,
   "metadata": {},
   "outputs": [],
   "source": [
    "ds = Dates.now(); ds -= (Day(1) + Millisecond(ds) + Second(ds))\n",
    "s = string(ds)"
   ]
  },
  {
   "cell_type": "markdown",
   "metadata": {},
   "source": [
    "Now, let's use that to request some data. From the help text,\\\n",
    "the keywords `s=` and `t=` accept Strings, DateTime objects,\\\n",
    "and numbers. So let's start at `s`, as defined above, and end\\\n",
    "at `t=600`, or 10 minutes later."
   ]
  },
  {
   "cell_type": "code",
   "execution_count": null,
   "metadata": {},
   "outputs": [],
   "source": [
    "cha_str = \"UW.MBW..EHZ, UW.SHW..EHZ, UW.HSR..EHZ, UW.TDH..EHZ, CC.PALM..EH?\" \n",
    "S = get_data(\"FDSN\", cha_str, src=\"IRIS\", s=s, t=600) "
   ]
  },
  {
   "cell_type": "markdown",
   "metadata": {},
   "source": [
    "#### **What each positional argument does**\n",
    "* `\"FDSN\"` tells get_data to use the FDSN dataselect service for our request\n",
    "* The long string gives the data channels requested as a comma-separated list\n",
    "\n",
    "#### **What each keyword does**\n",
    "* `s=s` sets the start time to `s`, the string created in the cell above.\n",
    "* `t=600` sets the termination (end) time to 600 seconds after `s`.\n",
    "* `src=\"IRIS\"` tells get_data to check the IRIS FDSN dataselect server. \n",
    "\n",
    "Note: the last keyword isn't equivalent to setting the first positional\\\n",
    "argument to \"IRIS\", because IRIS runs FDSN dataselect and its own timeseries\\\n",
    "request service (plus many others).\\\n",
    "\\\n",
    "...which channels were there today?"
   ]
  },
  {
   "cell_type": "code",
   "execution_count": null,
   "metadata": {},
   "outputs": [],
   "source": [
    "S.t[1]"
   ]
  },
  {
   "cell_type": "markdown",
   "metadata": {},
   "source": [
    "\\\n",
    "Any sign of TDH? (It's a pleasant hike in summer, but winter outages happen...)"
   ]
  },
  {
   "cell_type": "code",
   "execution_count": null,
   "metadata": {},
   "outputs": [],
   "source": [
    "findid(\"UW.TDH..EHZ\", S)"
   ]
  },
  {
   "cell_type": "markdown",
   "metadata": {},
   "source": [
    "\\\n",
    "Where can we look for data? What servers are available?"
   ]
  },
  {
   "cell_type": "code",
   "execution_count": null,
   "metadata": {},
   "outputs": [],
   "source": [
    "?seis_www"
   ]
  },
  {
   "cell_type": "markdown",
   "metadata": {},
   "source": [
    "\\\n",
    "I bet that CalTech is happy to handle a random download request!"
   ]
  },
  {
   "cell_type": "code",
   "execution_count": null,
   "metadata": {},
   "outputs": [],
   "source": [
    "S2 = get_data(\"FDSN\", \"CI.SDD..BHZ\", src=\"SCEDC\", s=s, t=600, fmt=\"mseed\", msr=true, w=true, demean=true, rr=true)"
   ]
  },
  {
   "cell_type": "markdown",
   "metadata": {},
   "source": [
    "#### **What the new keywords do:**\n",
    "* `src=\"SCEDC\"` tells `get_data` to use the SCEDC FDSN servers.\n",
    "* `fmt=\"mseed\"` specifies the data format for the download. (Note: mseed is actually the default, but including this keyword is useful for tutorial purposes.)\n",
    "* `w=true` write the download **directly** to disk, byte for byte, before any parsing happens. The file extension is always \".`fmt`\". The entire request is saved even if a parsing error happens -- which is rare, but possible with SEED. (Some Blockettes and data decoders are so rare that we've literally never seen them)\n",
    "* `demean=true` removes the mean of each channel after downloading.\n",
    "* `rr=true` removes the instrument response, flattening to DC.\n",
    "* `msr=true` uses the multi-stage instrument response. Most users don't need that much detail, so `msr` defaults to `false`.\n"
   ]
  },
  {
   "cell_type": "code",
   "execution_count": null,
   "metadata": {},
   "outputs": [],
   "source": [
    "# Example of single-stage response\n",
    "S.resp[1]"
   ]
  },
  {
   "cell_type": "code",
   "execution_count": null,
   "metadata": {},
   "outputs": [],
   "source": [
    "# Example of multi-stage response\n",
    "S2.resp[1]"
   ]
  },
  {
   "cell_type": "markdown",
   "metadata": {},
   "source": [
    "### **Check logs early and often**\n",
    "All file I/O and data processing operations are logged to the `:notes` \\\n",
    "fields of SeisIO data structures. For example:"
   ]
  },
  {
   "cell_type": "code",
   "execution_count": null,
   "metadata": {},
   "outputs": [],
   "source": [
    "S2.notes[1]"
   ]
  },
  {
   "cell_type": "markdown",
   "metadata": {},
   "source": [
    "Let's make sense of these logs using SeisIO built-ins:"
   ]
  },
  {
   "cell_type": "code",
   "execution_count": null,
   "metadata": {},
   "outputs": [],
   "source": [
    "?show_src"
   ]
  },
  {
   "cell_type": "code",
   "execution_count": null,
   "metadata": {},
   "outputs": [],
   "source": [
    "show_src(S2)"
   ]
  },
  {
   "cell_type": "code",
   "execution_count": null,
   "metadata": {},
   "outputs": [],
   "source": [
    "?show_writes"
   ]
  },
  {
   "cell_type": "code",
   "execution_count": null,
   "metadata": {},
   "outputs": [],
   "source": [
    "show_writes(S2)"
   ]
  },
  {
   "cell_type": "markdown",
   "metadata": {},
   "source": [
    "## B. **Saving requests**\n",
    "Remember, from above: **data requests can be written directly to disk with\\\n",
    "keyword `w=true`**. This writes raw output to file, even if data parsing\\\n",
    "somehow fails.\\\n",
    "\\\n",
    "In addition, SeisData and SeisChannel structures can be written to ASDF, SAC,\\\n",
    "or to SeisIO's native format, as we saw in the last tutorial."
   ]
  },
  {
   "cell_type": "code",
   "execution_count": null,
   "metadata": {},
   "outputs": [],
   "source": [
    "wseis(\"req_1.seis\", S)"
   ]
  },
  {
   "cell_type": "markdown",
   "metadata": {},
   "source": [
    "### 1. **Data request syntax is always the same**\n",
    "\\\n",
    "NN.SSSSS.LL.CC (net.sta.loc.cha, separated by periods) is the expected syntax \\\n",
    "for all web functions. The maximum field width in characters corresponds to the \\\n",
    "length of each field (e.g. 2 for network). Fields can’t contain whitespace. \\\n",
    "\\\n",
    "Data requests in SeisIO all use this syntax, even though IRIS timeseries, \\\n",
    "FDSN dataselect, and SeedLink format strings differently. Request strings are \\\n",
    "converted to the appropriate syntax for the request protocol."
   ]
  },
  {
   "cell_type": "code",
   "execution_count": null,
   "metadata": {},
   "outputs": [],
   "source": [
    "# these are identical requests\n",
    "channels = \"UW.KMO.., IU.COR.00.BHZ, CC.LON..BH?\"                          # single String\n",
    "channels = [\"UW.KMO..\", \"IU.COR.00.BHZ\", \"CC.LON..BH?\"]                    # Vector{String}\n",
    "channels = [\"UW\" \"KMO\" \"\" \"\"; \"IU\" \"COR\" \"00\" \"BHZ\"; \"CC\" \"LON\" \"\" \"BH?\"]  # Matrix{String}"
   ]
  },
  {
   "cell_type": "code",
   "execution_count": null,
   "metadata": {},
   "outputs": [],
   "source": [
    "?chanspec # where to find help on channel specification"
   ]
  },
  {
   "cell_type": "markdown",
   "metadata": {},
   "source": [
    "See also: https://seisio.readthedocs.io/en/latest/src/Appendices/web_syntax.html"
   ]
  },
  {
   "cell_type": "markdown",
   "metadata": {},
   "source": [
    "### 2. **Multiple data requests to one structure**\n",
    "\\\n",
    "Web requests to a structure **S** always create a new channel in **S** for \\\n",
    "each channel in each request, even if a channel with the same ID exists. \\\n",
    "This is necessary to prevent TCP congestion. \\\n",
    "\\\n",
    "This is different from multiple file reads to one structure; file reads \\\n",
    "always attempt to append channels with matching IDs. \\\n",
    "\\\n",
    "You can \"flatten\" structures with redundant channels by calling `merge!`. \\\n",
    "To see how this works, let's append a new data request to our first one: \\"
   ]
  },
  {
   "cell_type": "code",
   "execution_count": null,
   "metadata": {},
   "outputs": [],
   "source": [
    "get_data!(S, \"FDSN\", cha_str, src=\"IRIS\", s=ds+Minute(10), t=600) \n",
    "S.id"
   ]
  },
  {
   "cell_type": "markdown",
   "metadata": {},
   "source": [
    "With two sets of requests to the same channels, each \\\n",
    "channel ID should appear twice. Let's clean this up."
   ]
  },
  {
   "cell_type": "code",
   "execution_count": null,
   "metadata": {},
   "outputs": [],
   "source": [
    "merge!(S)"
   ]
  },
  {
   "cell_type": "markdown",
   "metadata": {},
   "source": [
    "Check the results:"
   ]
  },
  {
   "cell_type": "code",
   "execution_count": null,
   "metadata": {},
   "outputs": [],
   "source": [
    "S.t[1]"
   ]
  },
  {
   "cell_type": "markdown",
   "metadata": {},
   "source": [
    "## C. **Other acquisition methods**\n",
    "See the docstrings for these functions for details:\n",
    "\n",
    "* `FDSNsta`: request only station information\n",
    "* `seedlink`: stream to a SeisData structure in the background\n",
    "\n",
    "See also: SeisIO.Quake submodule"
   ]
  },
  {
   "cell_type": "markdown",
   "metadata": {},
   "source": [
    "### Streaming Data with Seedlink (Optional Section)\n",
    "SeedLink streams data to objects in the background. ]\n",
    "Here's a quick example:"
   ]
  },
  {
   "cell_type": "code",
   "execution_count": null,
   "metadata": {},
   "outputs": [],
   "source": [
    "channels = [\"UW.KMO..\", \"IU.COR.00.BH?\", \"CC.LON..BH?\", \"CC.VALT..???\", \"UW.ELK..EHZ\"]\n",
    "S3 = SeisData()\n",
    "seedlink!(S3, \"DATA\", channels)"
   ]
  },
  {
   "cell_type": "markdown",
   "metadata": {},
   "source": [
    "A `SeisData` object like `S3` has a field `:c` that tracks connections.\\\n",
    "When finished with a SeedLink session, close the corresponding connection\\\n",
    "in `S3.c`:"
   ]
  },
  {
   "cell_type": "code",
   "execution_count": null,
   "metadata": {},
   "outputs": [],
   "source": [
    "sleep(30)          # sleep 30 seconds; SeedLink doesn't engage immediately\n",
    "close(S3.c[1])     # close the SeedLink connection"
   ]
  },
  {
   "cell_type": "markdown",
   "metadata": {},
   "source": [
    "This ends the SeedLink session and processes all buffered data to the \\\n",
    "parent (`SeisData`) structure. You can see the details of the streaming \\\n",
    "process by engaging SeedLink with higher verbosity, but beware: `v=3`is \\\n",
    "for developer debugging and spams stdout, defeating the purpose of running \\\n",
    "SeedLink in the background."
   ]
  },
  {
   "cell_type": "code",
   "execution_count": null,
   "metadata": {},
   "outputs": [],
   "source": [
    "S3"
   ]
  },
  {
   "cell_type": "markdown",
   "metadata": {},
   "source": [
    "*Caution*: SeedLink requests appear to start with the first packet *after* \\\n",
    "the requested start time. If data need to start precisely at some time \\\n",
    "`t0`, start around a minute *earlier*, then sync to `t0` with the `sync!`\\\n",
    "command (to be covered in the Processing tutorial)."
   ]
  },
  {
   "cell_type": "markdown",
   "metadata": {},
   "source": [
    "## D. **Cleanup**\n",
    "Let's remove these extraneous downloads. The creator of SeisIO used to \\\n",
    "receive regular automated warnings from his grad school SysAdmin \\\n",
    "for being the \\#1 \"disk hog\" and still feels bad about it. Sorry, Ed!"
   ]
  },
  {
   "cell_type": "code",
   "execution_count": null,
   "metadata": {},
   "outputs": [],
   "source": [
    "files = ls(\"*.SAC\")\n",
    "for f in files\n",
    "    safe_rm(f)\n",
    "end\n",
    "safe_rm(\"req_1.pz\")"
   ]
  },
  {
   "cell_type": "code",
   "execution_count": null,
   "metadata": {},
   "outputs": [],
   "source": [
    "files = ls(\"*.mseed\")\n",
    "for f in files\n",
    "    safe_rm(f)\n",
    "end"
   ]
  },
  {
   "cell_type": "markdown",
   "metadata": {},
   "source": [
    "## **Saving Your Work**\n",
    "All data from this tutorial can be written to file using commands from the File IO tutorial. To review:\n",
    "\n",
    "`wseis(\"fname.seis\", S)` writes `S` to low-level SeisIO native format file `fname.seis`.\n",
    "\n",
    "`writesac(S)` writes `S` to SAC files with auto-generated names.\n",
    "\n",
    "`write_hdf5(\"fname.h5\", S)` writes `S` to ASDF (HDF5) file `fname.h5`."
   ]
  },
  {
   "cell_type": "code",
   "execution_count": null,
   "metadata": {},
   "outputs": [],
   "source": []
  },
  {
   "cell_type": "markdown",
   "metadata": {},
   "source": [
    "## E. **Further help**\n",
    "Please consult the official SeisIO documentation:\n",
    "\n",
    "### **Web requests with `get_data`**\n",
    "https://seisio.readthedocs.io/en/latest/src/Web/webclients.html\n",
    "\n",
    "### **Streaming with `seedlink`**\n",
    "https://seisio.readthedocs.io/en/latest/src/Web/seedlink.html\n",
    "\n",
    "## F. **Additional examples**\n",
    "The examples below are also found in https://seisio.readthedocs.io/en/latest/src/Appendices/examples.html"
   ]
  },
  {
   "cell_type": "markdown",
   "metadata": {},
   "source": [
    "### **FDSN get_data**\n",
    "Request the last 600 seconds of data from the IRIS FDSNWS server \\\n",
    "for channels CC.PALM, UW.HOOD, CC.TIMB, CC.HIYU, UW.TDH"
   ]
  },
  {
   "cell_type": "code",
   "execution_count": null,
   "metadata": {},
   "outputs": [],
   "source": [
    "S_fdsn = get_data(\"FDSN\", \"CC.PALM, UW.HOOD, CC.TIMB, CC.HIYU, UW.TDH\", src=\"IRIS\", s=-600, t=0)"
   ]
  },
  {
   "cell_type": "code",
   "execution_count": null,
   "metadata": {},
   "outputs": [],
   "source": [
    "S_fdsn.id"
   ]
  },
  {
   "cell_type": "markdown",
   "metadata": {},
   "source": [
    "### **IRIS get_data**\n",
    "Request an hour of recent data from the IRISWS timeseries server \\\n",
    "for channels CC.TIMB..EHE, CC.TIMB..EHN, CC.TIMB..EHZ, \\\n",
    "UW.HOOD..HHE, UW.HOOD..HHN, UW.HOOD..HHZ"
   ]
  },
  {
   "cell_type": "code",
   "execution_count": null,
   "metadata": {},
   "outputs": [],
   "source": [
    "S_iris = get_data(\"IRIS\", [\"CC.TIMB..BHE\", \"CC.TIMB..BHN\", \"CC.TIMB..BHZ\", \"UW.HOOD..HHE\", \"UW.HOOD..HHN\", \"UW.HOOD..HHZ\"], s=-3600, t=-1800)"
   ]
  },
  {
   "cell_type": "markdown",
   "metadata": {},
   "source": [
    "### **FDSNevt**\n",
    "Request waveform data for the Tohoku-Oki great earthquake, \\\n",
    "recorded by some borehole strain meters and seismometers \\\n",
    "in WA (USA), from IRIS (USA). \\\n",
    "\\\n",
    "**This function is part of the Quake submodule.**"
   ]
  },
  {
   "cell_type": "code",
   "execution_count": null,
   "metadata": {},
   "outputs": [],
   "source": [
    "using SeisIO.Quake\n",
    "S_evt = FDSNevt(\"201103110547\", \"PB.B004..EH?,PB.B004..BS?,PB.B001..BS?,PB.B001..EH?\")"
   ]
  },
  {
   "cell_type": "markdown",
   "metadata": {},
   "source": [
    "### **SeedLink**\n",
    "A short SeisComp3 SeedLink session using the IRIS server\n",
    "\n",
    "The `seedlink!` command below only executes if the test data \\\n",
    "are installed."
   ]
  },
  {
   "cell_type": "code",
   "execution_count": null,
   "metadata": {},
   "outputs": [],
   "source": [
    "sl_conf = realpath(dirname(pathof(SeisIO))*\"/../test/SampleFiles/SL_long_test.conf\")\n",
    "S_sl = seedlink(\"TIME\", \"UW.GRUT,UW.H1K,UW.MDW\", s=-120, t=120)\n",
    "if isfile(sl_conf)\n",
    "    seedlink!(S_sl, \"DATA\", sl_conf)\n",
    "end\n",
    "sleep(30)\n",
    "for conn in S_sl.c; close(conn); end"
   ]
  },
  {
   "cell_type": "code",
   "execution_count": null,
   "metadata": {},
   "outputs": [],
   "source": [
    "S_sl"
   ]
  }
 ],
 "metadata": {
  "kernelspec": {
   "display_name": "Julia 1.5.4",
   "language": "julia",
   "name": "julia-1.5"
  },
  "language_info": {
   "file_extension": ".jl",
   "mimetype": "application/julia",
   "name": "julia",
   "version": "1.5.4"
  }
 },
 "nbformat": 4,
 "nbformat_minor": 4
}
