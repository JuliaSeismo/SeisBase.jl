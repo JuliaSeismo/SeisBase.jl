{
 "cells": [
  {
   "cell_type": "markdown",
   "metadata": {},
   "source": [
    "# 2. **File I/O**\n",
    "In this tutorial, we'll explain how to read and download data."
   ]
  },
  {
   "cell_type": "code",
   "execution_count": null,
   "metadata": {},
   "outputs": [],
   "source": [
    "using SeisBase\n",
    "include(\"safe_rm.jl\")"
   ]
  },
  {
   "cell_type": "markdown",
   "metadata": {},
   "source": [
    "## A. **Loading entire files**\n",
    "`read_data` reads one or more entire files into memory.\\\n",
    "Use this with legacy data formats like SAC, SEG Y, and mini-SEED:"
   ]
  },
  {
   "cell_type": "code",
   "execution_count": null,
   "metadata": {},
   "outputs": [],
   "source": [
    "?read_data"
   ]
  },
  {
   "cell_type": "markdown",
   "metadata": {},
   "source": [
    "\\\n",
    "If you know the file format that you're trying to read, pass\\\n",
    "it as the first argument to `read_data` in lowercase:"
   ]
  },
  {
   "cell_type": "code",
   "execution_count": null,
   "metadata": {},
   "outputs": [],
   "source": [
    "S = read_data(\"mseed\", \"DATA/2018.224.00.00.00.000.TA.C26K..BHZ.R.mseed\")"
   ]
  },
  {
   "cell_type": "code",
   "execution_count": null,
   "metadata": {},
   "outputs": [],
   "source": [
    "S = read_data(\"sac\", \"DATA/2018.224.00.00.00.000.TA.C26K..BHZ.R.SAC\")"
   ]
  },
  {
   "cell_type": "markdown",
   "metadata": {},
   "source": [
    "\\\n",
    "If you don't know a file's format, `read_data` calls a (somewhat slower)\\\n",
    "function called `guess`that can usually identify it:"
   ]
  },
  {
   "cell_type": "code",
   "execution_count": null,
   "metadata": {},
   "outputs": [],
   "source": [
    "S2 = read_data(\"DATA/2018.224.00.00.00.000.TA.C26K..BHZ.R.SAC\")"
   ]
  },
  {
   "cell_type": "code",
   "execution_count": null,
   "metadata": {},
   "outputs": [],
   "source": [
    "S == S2"
   ]
  },
  {
   "cell_type": "markdown",
   "metadata": {},
   "source": [
    "`read_data` accepts file string wildcards."
   ]
  },
  {
   "cell_type": "code",
   "execution_count": null,
   "metadata": {},
   "outputs": [],
   "source": [
    "path = dirname(pathof(SeisBase))*\"/../test/SampleFiles/SUDS/\"\n",
    "S = read_data(\"sac\", path * \"*.sac\")"
   ]
  },
  {
   "cell_type": "markdown",
   "metadata": {},
   "source": [
    "## B. **Reading from large volumes**\n",
    "Modern data formats create large volumes on disk, from which data are read in user-specified time windows.\\\n",
    "SeisBase currently supports reading from ASDF files through the function `read_hdf5`:"
   ]
  },
  {
   "cell_type": "code",
   "execution_count": null,
   "metadata": {},
   "outputs": [],
   "source": [
    "?read_hdf5"
   ]
  },
  {
   "cell_type": "code",
   "execution_count": null,
   "metadata": {},
   "outputs": [],
   "source": [
    "hdf = \"DATA/2days-40hz.h5\"\n",
    "id  = \"CI.SDD..HHZ\"\n",
    "ts  = \"2019-07-07T23:00:00\"\n",
    "te  = \"2019-07-08T01:59:59.975\"\n",
    "S = read_hdf5(hdf, ts, te, id = id)"
   ]
  },
  {
   "cell_type": "markdown",
   "metadata": {},
   "source": [
    "\\\n",
    "FDSN-style wildcards can be used for the ID string."
   ]
  },
  {
   "cell_type": "code",
   "execution_count": null,
   "metadata": {},
   "outputs": [],
   "source": [
    "idr = \"C*.SDD..HH?\"\n",
    "S1 = read_hdf5(hdf, ts, te, id = id)"
   ]
  },
  {
   "cell_type": "code",
   "execution_count": null,
   "metadata": {},
   "outputs": [],
   "source": [
    "S == S1"
   ]
  },
  {
   "cell_type": "markdown",
   "metadata": {},
   "source": [
    "\\\n",
    "If the `id` keyword isn't used, then all channels with data matching the time\\\n",
    "query are read into memory."
   ]
  },
  {
   "cell_type": "code",
   "execution_count": null,
   "metadata": {},
   "outputs": [],
   "source": [
    "S2 = read_hdf5(hdf, ts, te)"
   ]
  },
  {
   "cell_type": "markdown",
   "metadata": {},
   "source": [
    "\\\n",
    "Contents of an HDF5 volume can be scanned at the \"station\" (default) or \"trace\" level with `scan_hdf5`:"
   ]
  },
  {
   "cell_type": "code",
   "execution_count": null,
   "metadata": {},
   "outputs": [],
   "source": [
    "scan_hdf5(hdf)"
   ]
  },
  {
   "cell_type": "code",
   "execution_count": null,
   "metadata": {},
   "outputs": [],
   "source": [
    "scan_hdf5(hdf, level=\"trace\")"
   ]
  },
  {
   "cell_type": "markdown",
   "metadata": {},
   "source": [
    "### File and Format Information (Optional Section)\n",
    "Information on files and formats can be found in a number of places,\\\n",
    "including the command-line interface."
   ]
  },
  {
   "cell_type": "code",
   "execution_count": null,
   "metadata": {},
   "outputs": [],
   "source": [
    "guess(\"DATA/2018.224.00.00.00.000.TA.C26K..BHZ.R.SAC\")"
   ]
  },
  {
   "cell_type": "code",
   "execution_count": null,
   "metadata": {},
   "outputs": [],
   "source": [
    "path = dirname(pathof(SeisBase))*\"/../test/SampleFiles/SUDS/\"\n",
    "fname = path * \"lsm.sud\"\n",
    "g = guess(fname)"
   ]
  },
  {
   "cell_type": "code",
   "execution_count": null,
   "metadata": {},
   "outputs": [],
   "source": [
    "SeisBase.formats[g[1]] # what are we looking at...?"
   ]
  },
  {
   "cell_type": "code",
   "execution_count": null,
   "metadata": {},
   "outputs": [],
   "source": [
    "S2 = read_data(g[1], fname, swap = g[2])"
   ]
  },
  {
   "cell_type": "code",
   "execution_count": null,
   "metadata": {},
   "outputs": [],
   "source": [
    "# since volcano colleagues keep asking\n",
    "using SeisBase.SUDS\n",
    "suds_support()"
   ]
  },
  {
   "cell_type": "code",
   "execution_count": null,
   "metadata": {},
   "outputs": [],
   "source": [
    "# while I'm at it\n",
    "using SeisBase.SEED"
   ]
  },
  {
   "cell_type": "code",
   "execution_count": null,
   "metadata": {},
   "outputs": [],
   "source": [
    "?seed_support"
   ]
  },
  {
   "cell_type": "code",
   "execution_count": null,
   "metadata": {},
   "outputs": [],
   "source": [
    "?mseed_support"
   ]
  },
  {
   "cell_type": "markdown",
   "metadata": {},
   "source": [
    "...and knowing is half the battle."
   ]
  },
  {
   "cell_type": "markdown",
   "metadata": {},
   "source": [
    "## C. **Saving data**\n",
    "SeisData and SeisChannel structures can be written to ASDF, SAC, or to SeisBase's\\\n",
    "native format. ASDF format is portable (most languages can read HDF5) and well-\\\n",
    "suited to large data sets. SAC has the advantage that it's almost universally\\\n",
    "readable, but only writes 32-bit float data, and each contiguous data segment\\\n",
    "creates one file. SeisBase format saves complete information and does low-level\\\n",
    "object writing with a file index; it's the fastest of the three writers.\n",
    "\n",
    "### **Writing to ASDF files**\n",
    "ASDF is an HDF5 file format designed for seismic data. Write to ASDF with the\\\n",
    "command `write_hdf5`. "
   ]
  },
  {
   "cell_type": "code",
   "execution_count": null,
   "metadata": {},
   "outputs": [],
   "source": [
    "?write_hdf5"
   ]
  },
  {
   "cell_type": "markdown",
   "metadata": {},
   "source": [
    "#### **Creating ASDF volumes**\n",
    "The simplest ASDF write creates a new file:"
   ]
  },
  {
   "cell_type": "code",
   "execution_count": null,
   "metadata": {},
   "outputs": [],
   "source": [
    "hdf_out = \"test.h5\"\n",
    "write_hdf5(hdf_out, S)"
   ]
  },
  {
   "cell_type": "markdown",
   "metadata": {},
   "source": [
    "#### **Writing to existing ASDF volumes**\n",
    "Writing to an existing ASDF volume adds the data to the `Waveforms/` group,\\\n",
    "creating new `Waveforms/(net.sta)/` paths as needed. Channel information is\\\n",
    "written to `Waveforms/(net.sta)/StationXML`:"
   ]
  },
  {
   "cell_type": "code",
   "execution_count": null,
   "metadata": {},
   "outputs": [],
   "source": [
    "write_hdf5(hdf_out, S1)"
   ]
  },
  {
   "cell_type": "markdown",
   "metadata": {},
   "source": [
    "#### **ASDF overwrite mode**\n",
    "In \"overwrite\" mode (`write_hdf5(hdf_out, S, ovr=true)`), SeisBase only\\\n",
    "overwrites parts of traces in `hdf_out` that have sample times in `S`. As a\\\n",
    "demonstration, let's overwrite part of a channel's data with NaNs:"
   ]
  },
  {
   "cell_type": "code",
   "execution_count": null,
   "metadata": {},
   "outputs": [],
   "source": [
    "S3 = S[1:1]\n",
    "T = eltype(S3.x[1])\n",
    "S3.t[1] = vcat(S3.t[1][1:1,:], [100 0])\n",
    "S3.x[1] = T(NaN).*ones(100)\n",
    "write_hdf5(hdf_out, S3, ovr=true)"
   ]
  },
  {
   "cell_type": "markdown",
   "metadata": {},
   "source": [
    "\\\n",
    "Now we'll read back in and compare to `S[1]`:"
   ]
  },
  {
   "cell_type": "code",
   "execution_count": null,
   "metadata": {},
   "outputs": [],
   "source": [
    "id = S3.id[1]\n",
    "ts  = \"2019-07-07T23:00:00\"\n",
    "te  = \"2019-07-08T01:59:59.975\"\n",
    "S3 = read_hdf5(hdf_out, ts, te, id = id)"
   ]
  },
  {
   "cell_type": "code",
   "execution_count": null,
   "metadata": {},
   "outputs": [],
   "source": [
    "minimum(isnan.(S3.x[1][1:100]))"
   ]
  },
  {
   "cell_type": "code",
   "execution_count": null,
   "metadata": {},
   "outputs": [],
   "source": [
    "S3.x[1][101:end] == S.x[1][101:end]"
   ]
  },
  {
   "cell_type": "markdown",
   "metadata": {},
   "source": [
    "#### **ASDF add mode**\n",
    "In \"add\" mode (`write_hdf5(hdf_out, S, ovr=true)`), SeisBase overwrites parts of\\\n",
    "traces in `hdf_out` that have sample times in `S`, and adds new traces (filled\\\n",
    "with NaNs) corresponding to parts of `S` with no corresponding sample times in\\\n",
    "`hdf_out`. As a demonstration, let's create some new traces in `hdf_out`:"
   ]
  },
  {
   "cell_type": "code",
   "execution_count": null,
   "metadata": {},
   "outputs": [],
   "source": [
    "using Dates\n",
    "S2 = read_data(\"uw\", \"DATA/99011116541W\")\n",
    "write_hdf5(hdf_out, S2, add=true, len=Hour(1), chans=1:10, tag=\"raw\")\n",
    "scan_hdf5(hdf_out, level=\"trace\")"
   ]
  },
  {
   "cell_type": "markdown",
   "metadata": {},
   "source": [
    "\\\n",
    "Now let's read an example trace to see what we've created:"
   ]
  },
  {
   "cell_type": "code",
   "execution_count": null,
   "metadata": {},
   "outputs": [],
   "source": [
    "id = S2.id[1]\n",
    "ts = \"1999-01-11T16:00:00\"\n",
    "te = \"1999-01-11T17:59:59.99\"\n",
    "S3 = read_hdf5(hdf_out, ts, te, id = S2.id[1])"
   ]
  },
  {
   "cell_type": "code",
   "execution_count": null,
   "metadata": {},
   "outputs": [],
   "source": [
    "i = findfirst(isnan.(S3.x[1]).==false)\n",
    "X = S3.x[1][i:i-1+length(S2.x[1])]"
   ]
  },
  {
   "cell_type": "code",
   "execution_count": null,
   "metadata": {},
   "outputs": [],
   "source": [
    "X == S2.x[1]"
   ]
  },
  {
   "cell_type": "markdown",
   "metadata": {},
   "source": [
    "As the example shows, \"add\" mode creates placeholder traces; the intent is for\\\n",
    "data to written to these traces incrementally in \"overwrite\" mode.\\\n",
    "\\\n",
    "Let's clean this up and move on:"
   ]
  },
  {
   "cell_type": "code",
   "execution_count": null,
   "metadata": {},
   "outputs": [],
   "source": [
    "safe_rm(hdf_out)"
   ]
  },
  {
   "cell_type": "markdown",
   "metadata": {},
   "source": [
    "### **Writing to SAC files**\n",
    "Writing to SAC creates one file for each contiguous data segment in each data\\\n",
    "channel. Although large collections of small files have been an obsolete data\\\n",
    "archival strategy since the early 2000s, SeisBase supports writing to SAC because\\\n",
    "the data format is almost universal."
   ]
  },
  {
   "cell_type": "code",
   "execution_count": null,
   "metadata": {},
   "outputs": [],
   "source": [
    "writesac(S)                         # filenames are auto-generated. no need to specify.\n",
    "writesacpz(S, \"req_1.pz\")           # in case you need instrument responses later."
   ]
  },
  {
   "cell_type": "markdown",
   "metadata": {},
   "source": [
    "Two useful keywords control the creation of SAC files:\n",
    "* `fname=FF` uses filename FF, rather than creating file names automatically. This keywork only works with GphysChannel objects.\n",
    "* `xy=true` writes generic x-y data to file with time as the independent variable."
   ]
  },
  {
   "cell_type": "code",
   "execution_count": null,
   "metadata": {},
   "outputs": [],
   "source": [
    "writesac(S[1], fname=\"tmp.SAC\")     # writesac also works with SeisChannel objects."
   ]
  },
  {
   "cell_type": "markdown",
   "metadata": {},
   "source": [
    "### **Writing to SeisBase files**\n",
    "The SeisBase low-level file format is comprehensive and fast. A SeisBase file can\\\n",
    "contain multiple structures, and structures written to file can be any Type\\\n",
    "in SeisBase (including, for example, just an instrument response). Information\\\n",
    "in structures is fully preserved except for exotic data Types stored in the\\\n",
    "`:misc` field.\\\n",
    "\\\n",
    "To read from a SeisBase file, you'll need to specify one or more object numbers,\\\n",
    "or the output will be of Type `Array{Any,1}`:"
   ]
  },
  {
   "cell_type": "code",
   "execution_count": null,
   "metadata": {},
   "outputs": [],
   "source": [
    "wseis(\"req_1.seis\", S)\n",
    "S2 = rseis(\"req_1.seis\")[1]\n",
    "S == S2"
   ]
  },
  {
   "cell_type": "markdown",
   "metadata": {},
   "source": [
    "## D. **Further help**\n",
    "Please consult the official SeisBase documentation:\n",
    "\n",
    "### **Reading files with `read_data`**\n",
    "https://SeisBase.readthedocs.io/en/latest/src/Formats/timeseries.html\n",
    " \n",
    "### **Reading ASDF volumes with `read_hdf5`**\n",
    "https://SeisBase.readthedocs.io/en/latest/src/Formats/hdf5.html\n"
   ]
  }
 ],
 "metadata": {
  "kernelspec": {
   "display_name": "Julia 1.5.4",
   "language": "julia",
   "name": "julia-1.5"
  },
  "language_info": {
   "file_extension": ".jl",
   "mimetype": "application/julia",
   "name": "julia",
   "version": "1.5.4"
  }
 },
 "nbformat": 4,
 "nbformat_minor": 4
}
