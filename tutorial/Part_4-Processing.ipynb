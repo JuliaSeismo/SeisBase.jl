{
 "cells": [
  {
   "cell_type": "markdown",
   "metadata": {},
   "source": [
    "# 4. **Processing**\n",
    "In this tutorial, we'll explain how to process data. Let's start\\\n",
    "with the data we acquired at the end of the last tutorial:"
   ]
  },
  {
   "cell_type": "code",
   "execution_count": null,
   "metadata": {},
   "outputs": [],
   "source": [
    "using SeisIO, Dates\n",
    "S = (\n",
    "        if isfile(\"req_1.seis\")\n",
    "            rseis(\"req_1.seis\")[1]\n",
    "        else\n",
    "            ds = Dates.now(); ds -= (Day(1) + Millisecond(ds) + Second(ds))\n",
    "            s = string(ds)\n",
    "            get_data(\"FDSN\", \"UW.MBW..EHZ, UW.SHW..EHZ, UW.HSR..EHZ, UW.TDH..EHZ, CC.PALM..EH?\", src=\"IRIS\", s=s, t=600) \n",
    "        end\n",
    "    )\n",
    "if isfile(\"req_1.seis\") == false\n",
    "    wseis(\"req_1.seis\", S)\n",
    "end"
   ]
  },
  {
   "cell_type": "markdown",
   "metadata": {},
   "source": [
    "## A. **List of Data Processing Functions**\n",
    "* convert_seis: differentiate and integrate seismograms\n",
    "* demean: remove mean\n",
    "* detrend: remove trend line\n",
    "* env: compute envelope\n",
    "* filtfilt: zero-phase filter\n",
    "* nanfill: fill NaNs\n",
    "* resample: ...what do you think it does?\n",
    "* sync: time-synchronize a SeisData structure\n",
    "* merge: merge data\n",
    "* ungap: remove gaps in channels\n",
    "* unscale: divide out :gain from all trace data"
   ]
  },
  {
   "cell_type": "markdown",
   "metadata": {},
   "source": [
    "### **\"In-Place\" vs. \"Safe\" Operations**\n",
    "\n",
    "Processing functions each have two versions: an \\\n",
    "\"in-place\" variant that ends with an exclamation mark (\"!\"),\\\n",
    "and a \"safe\" version that stores the result in a new data \\\n",
    "structure. The in-place variant overwrites data in place.\\\n",
    "This generally *isn't* reversible.\\\n",
    "\\\n",
    "Here's a simple set of processing operations, common for\\\n",
    "seismic data:"
   ]
  },
  {
   "cell_type": "code",
   "execution_count": null,
   "metadata": {},
   "outputs": [],
   "source": [
    "U = deepcopy(S) # back up, just ... in... case..."
   ]
  },
  {
   "cell_type": "code",
   "execution_count": null,
   "metadata": {},
   "outputs": [],
   "source": [
    "detrend!(S)\n",
    "ungap!(S)\n",
    "resample!(S, fs=50.0)\n",
    "filtfilt!(S, rt=\"Lowpass\", fh=10.0)\n",
    "show_processing(S)"
   ]
  },
  {
   "cell_type": "markdown",
   "metadata": {},
   "source": [
    "The filter uses a mix of default values and custom keyword parameters; \\\n",
    "the result applies a 4-pole Butterworth filter to each (regularly-sampled) \\\n",
    "channel of S in place.\\\n",
    "\\\n",
    "We've added a simple function to check for (and remove) problematic data.\\\n",
    "Let's load and test it. Note that this test *should* produce warnings."
   ]
  },
  {
   "cell_type": "code",
   "execution_count": null,
   "metadata": {},
   "outputs": [],
   "source": [
    "include(\"check_data.jl\")\n",
    "\n",
    "try\n",
    "  test_check_tutorial_data()\n",
    "  @info(string(\"Test of check_tutorial_data! passed.\"))\n",
    "catch err\n",
    "  @warn(string(\"Test of check_tutorial_data! threw error:\", err))\n",
    "end"
   ]
  },
  {
   "cell_type": "markdown",
   "metadata": {},
   "source": [
    "Now let's check our test data set for errors."
   ]
  },
  {
   "cell_type": "code",
   "execution_count": null,
   "metadata": {},
   "outputs": [],
   "source": [
    "println(\"checking tutorial data now...\")\n",
    "check_tutorial_data!(S)"
   ]
  },
  {
   "cell_type": "markdown",
   "metadata": {},
   "source": [
    "Assuming S is non-empty, we'll proceed."
   ]
  },
  {
   "cell_type": "code",
   "execution_count": null,
   "metadata": {},
   "outputs": [],
   "source": [
    "isempty(S)"
   ]
  },
  {
   "cell_type": "markdown",
   "metadata": {},
   "source": [
    "We want at least four channels in S for the next section.\\\n",
    "If we don't have that, remember: data outages happen. We were\\\n",
    "requesting near-real-time data from the IRIS FDSN server. So,\\\n",
    "we can either (a) retry the data request at some later time, or\\\n",
    "(b) generate a fictitious data set. The next step uses option (b)."
   ]
  },
  {
   "cell_type": "code",
   "execution_count": null,
   "metadata": {},
   "outputs": [],
   "source": [
    "if S.n < 4\n",
    "    n = 4-S.n\n",
    "    @warn(\"Too few channels for Instrument Response tutorial. Adding \", n, \" channels of fictitious data.\")\n",
    "    S2 = randSeisData(n, nx=2^16, s=1.0, a0=true, fs_min=10.0)\n",
    "    append!(S, S2)\n",
    "else\n",
    "    println(\"OK to proceed. No fictitious data appended.\")\n",
    "end\n",
    "S"
   ]
  },
  {
   "cell_type": "markdown",
   "metadata": {},
   "source": [
    "### **Instrument Response**\n",
    "Translating instrument responses can be tricky. Let's work an\\\n",
    "example of that next. First, we create a target instrument response.\\\n",
    "Since the data in S are mostly short-period geophones, let's\\\n",
    "keep it reasonable -- a 10s rolloff frequency."
   ]
  },
  {
   "cell_type": "code",
   "execution_count": null,
   "metadata": {},
   "outputs": [],
   "source": [
    "?fctoresp"
   ]
  },
  {
   "cell_type": "code",
   "execution_count": null,
   "metadata": {},
   "outputs": [],
   "source": [
    "resp_new = fctoresp(0.1)"
   ]
  },
  {
   "cell_type": "markdown",
   "metadata": {},
   "source": [
    "\\\n",
    "Now let's update the sensitivity, so that the translated\\\n",
    "instrument responses have meaningful velocity amplitudes."
   ]
  },
  {
   "cell_type": "code",
   "execution_count": null,
   "metadata": {},
   "outputs": [],
   "source": [
    "resp_a0!(resp_new)\n",
    "resp_new"
   ]
  },
  {
   "cell_type": "code",
   "execution_count": null,
   "metadata": {},
   "outputs": [],
   "source": [
    "?translate_resp"
   ]
  },
  {
   "cell_type": "markdown",
   "metadata": {},
   "source": [
    "\\\n",
    "Update the first three channels of S to the new response:"
   ]
  },
  {
   "cell_type": "code",
   "execution_count": null,
   "metadata": {},
   "outputs": [],
   "source": [
    "translate_resp!(S, resp_new, chans=1:3)"
   ]
  },
  {
   "cell_type": "markdown",
   "metadata": {},
   "source": [
    "\\\n",
    "Remove the instrument response from the rest completely, flattening to DC:"
   ]
  },
  {
   "cell_type": "code",
   "execution_count": null,
   "metadata": {},
   "outputs": [],
   "source": [
    "Sf = remove_resp(S, chans=4:S.n)"
   ]
  },
  {
   "cell_type": "markdown",
   "metadata": {},
   "source": [
    "\\\n",
    "How do the data look?"
   ]
  },
  {
   "cell_type": "code",
   "execution_count": null,
   "metadata": {},
   "outputs": [],
   "source": [
    "check_tutorial_data!(S)"
   ]
  },
  {
   "cell_type": "markdown",
   "metadata": {},
   "source": [
    "We need at least two channels left in S for the last section.\\\n",
    "If we don't have that, we should retry our data request at some\\\n",
    "later time."
   ]
  },
  {
   "cell_type": "code",
   "execution_count": null,
   "metadata": {},
   "outputs": [],
   "source": [
    "if S.n < 2\n",
    "    @warn(\"Too few channels for Synchronization tutorial.\")\n",
    "    println(\"Please re-send the data request at a later time, or try again with different parameters.\")\n",
    "else\n",
    "    println(\"OK to proceed.\")\n",
    "end"
   ]
  },
  {
   "cell_type": "markdown",
   "metadata": {},
   "source": [
    "### **Synchronization**\n",
    "In some situations, it's useful to force all traces in a `SeisData` \\\n",
    "container to start (and perhaps end) at the same time(s). Do this \\\n",
    "with the command `sync`:"
   ]
  },
  {
   "cell_type": "code",
   "execution_count": null,
   "metadata": {},
   "outputs": [],
   "source": [
    "S = deepcopy(U)"
   ]
  },
  {
   "cell_type": "code",
   "execution_count": null,
   "metadata": {},
   "outputs": [],
   "source": [
    "# don't worry about memorizing these commands; they're\n",
    "# only for demonstration purposes.\n",
    "d0 = u2d(1.0e-6*(minimum([S.t[i][1,2] for i in 1:S.n]) - 1000000))\n",
    "d0 -= Millisecond(d0)\n",
    "d0 += Millisecond(5)\n",
    "t0 = string(d0)\n",
    "t1 = string(d0+Second(300))"
   ]
  },
  {
   "cell_type": "markdown",
   "metadata": {},
   "source": [
    "Synchronized traces can still have trace lengths \\\n",
    "that differ by a sample if the start and end times \\\n",
    "align exactly with one trace's sample intervals but \\\n",
    "not another's; that's why we added 5 ms to t0 above."
   ]
  },
  {
   "cell_type": "code",
   "execution_count": null,
   "metadata": {},
   "outputs": [],
   "source": [
    "sync!(S, s=t0, t=t1)"
   ]
  },
  {
   "cell_type": "code",
   "execution_count": null,
   "metadata": {},
   "outputs": [],
   "source": [
    "[length(i) for i in S.x]"
   ]
  },
  {
   "cell_type": "markdown",
   "metadata": {},
   "source": [
    "...are they all equal? They should be within two samples."
   ]
  },
  {
   "cell_type": "markdown",
   "metadata": {},
   "source": [
    "### **Check logs early and often**\n",
    "Like file I/O, all data processing operations are logged to the `:notes` \\\n",
    "fields of SeisIO data structures. For example:"
   ]
  },
  {
   "cell_type": "code",
   "execution_count": null,
   "metadata": {},
   "outputs": [],
   "source": [
    "?show_processing"
   ]
  },
  {
   "cell_type": "code",
   "execution_count": null,
   "metadata": {},
   "outputs": [],
   "source": [
    "show_processing(S)"
   ]
  },
  {
   "cell_type": "markdown",
   "metadata": {},
   "source": [
    "## B. **Cleanup**"
   ]
  },
  {
   "cell_type": "code",
   "execution_count": null,
   "metadata": {},
   "outputs": [],
   "source": [
    "rm(\"req_1.seis\")"
   ]
  },
  {
   "cell_type": "markdown",
   "metadata": {},
   "source": [
    "## C. **For More Help**\n",
    "Please consult the Processing chapter of the official documentation: \\\n",
    "https://seisio.readthedocs.io/en/latest/src/Processing/processing.html"
   ]
  }
 ],
 "metadata": {
  "kernelspec": {
   "display_name": "Julia 1.5.4",
   "language": "julia",
   "name": "julia-1.5"
  },
  "language_info": {
   "file_extension": ".jl",
   "mimetype": "application/julia",
   "name": "julia",
   "version": "1.5.4"
  }
 },
 "nbformat": 4,
 "nbformat_minor": 4
}
